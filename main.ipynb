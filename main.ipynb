{
 "cells": [
  {
   "cell_type": "code",
   "execution_count": null,
   "metadata": {
    "pycharm": {
     "name": "#%%\n"
    }
   },
   "outputs": [],
   "source": [
    "# imports\n",
    "import re, nltk, gensim, pyLDAvis, nlp\n",
    "nltk.download(\"stopwords\")\n",
    "from nltk.stem import WordNetLemmatizer\n",
    "\n",
    "import pandas as pd\n",
    "import numpy as np\n",
    "\n",
    "import gensim\n",
    "import gensim.corpora as corpora\n",
    "from gensim.utils import simple_preprocess\n",
    "from gensim.models import CoherenceModel\n",
    "\n",
    "import pyLDAvis.gensim\n",
    "import matplotlib.pyplot as plt\n",
    "%matplotlib inline\n",
    "\n",
    "import warnings\n",
    "warnings.filterwarnings(\"ignore\")\n",
    "\n",
    "import pprint\n",
    "pp = pprint.PrettyPrinter()\n",
    "\n",
    "from tqdm import tqdm"
   ]
  },
  {
   "cell_type": "code",
   "execution_count": 2,
   "metadata": {},
   "outputs": [],
   "source": [
    "# splitting dataset\n",
    "def split():\n",
    "    df = pd.read_csv(\"all.csv\")\n",
    "\n",
    "    df[\"text\"] = df[\"text\"].apply(lambda x: re.split('https:\\/\\/.*', str(x))[0])\n",
    "    df[\"text\"] = df[\"text\"].str.replace(\"[\\\\n]\", \"\", regex=True)\n",
    "    df[\"text\"] = df[\"text\"].str.replace(\"[\\\\r]\", \"\", regex=True)\n",
    "\n",
    "    df_male = df[df[\"text\"].str.contains('[0-9][0-9](m|(( y\\/o| year old)) (dude|boy|guy|man|male))', regex=True)]\n",
    "    df_male.to_excel(\"male.xlsx\")\n",
    "    df_female = df[df[\"text\"].str.contains('[0-9][0-9](f|(( y\\/o| year old)) (woman|lady|girl|female))', regex=True)]\n",
    "    df_female.to_excel(\"female.xlsx\")\n",
    "\n",
    "    print(len(df_male))\n",
    "    print(len(df_female))\n",
    "    print(df_male.head())\n",
    "    print(df_female.head())\n",
    "\n",
    "    return df_male, df_female"
   ]
  },
  {
   "cell_type": "code",
   "execution_count": 3,
   "metadata": {
    "pycharm": {
     "name": "#%%\n"
    }
   },
   "outputs": [],
   "source": [
    "# loading data\n",
    "# df_male, df_female = split()\n",
    "df_male = pd.read_excel(\"results/male.xlsx\").dropna()\n",
    "df_female = pd.read_excel(\"results/female.xlsx\").dropna()\n",
    "\n",
    "data_male = df_male.text.tolist()\n",
    "data_female = df_female.text.tolist()"
   ]
  },
  {
   "cell_type": "code",
   "execution_count": 4,
   "metadata": {
    "pycharm": {
     "name": "#%%\n"
    }
   },
   "outputs": [],
   "source": [
    "# cleaning data a bit\n",
    "\n",
    "# remove emails\n",
    "data_male = [re.sub(r\"\\S*@\\S*s?\", \"\", i) for i in data_male]\n",
    "\n",
    "# remove new lines\n",
    "data_male = [re.sub(r\"\\s+\", \" \", i) for i in data_male]\n",
    "\n",
    "# remove emails\n",
    "data_female = [re.sub(r\"\\S*@\\S*s?\", \"\", i) for i in data_female]\n",
    "\n",
    "# remove new lines\n",
    "data_female = [re.sub(r\"\\s+\", \" \", i) for i in data_female]"
   ]
  },
  {
   "cell_type": "code",
   "execution_count": 5,
   "metadata": {
    "pycharm": {
     "is_executing": true,
     "name": "#%%\n"
    },
    "scrolled": true
   },
   "outputs": [],
   "source": [
    "# tokenizer\n",
    "def tokenize(sentences):\n",
    "    for sentence in sentences:\n",
    "        yield(gensim.utils.simple_preprocess(str(sentence), deacc=True))\n",
    "\n",
    "data_male_words = list(tokenize(data_male))\n",
    "data_female_words = list(tokenize(data_female))"
   ]
  },
  {
   "cell_type": "code",
   "execution_count": 6,
   "metadata": {
    "pycharm": {
     "is_executing": true
    }
   },
   "outputs": [],
   "source": [
    "# remove stopwords + lemmatize\n",
    "from nltk.corpus import stopwords\n",
    "stopwords = stopwords.words(\"english\")\n",
    "\n",
    "lemmatizer = WordNetLemmatizer()\n",
    "\n",
    "def remove_stopwords(texts):\n",
    "    cleaned_texts = []\n",
    "    for text in texts:\n",
    "        cleaned = [w for w in text if not w.lower() in stopwords]\n",
    "        cleaned = [lemmatizer.lemmatize(w) for w in cleaned]\n",
    "        cleaned_texts.append(cleaned)\n",
    "    return cleaned_texts\n",
    "\n",
    "data_male_stopped = remove_stopwords(data_male_words)\n",
    "data_female_stopped = remove_stopwords(data_female_words)"
   ]
  },
  {
   "cell_type": "code",
   "execution_count": 7,
   "metadata": {
    "pycharm": {
     "is_executing": true
    }
   },
   "outputs": [],
   "source": [
    "# create ID dictionary & corpus\n",
    "id2word_male = corpora.Dictionary(data_male_stopped)\n",
    "id2word_female = corpora.Dictionary(data_female_stopped)\n",
    "\n",
    "corpus_male = [id2word_male.doc2bow(text) for text in data_male_stopped]\n",
    "corpus_female = [id2word_female.doc2bow(text) for text in data_female_stopped]"
   ]
  },
  {
   "cell_type": "code",
   "execution_count": null,
   "metadata": {
    "pycharm": {
     "is_executing": true
    }
   },
   "outputs": [],
   "source": [
    "def compute_coherence(dictionary, corpus, texts, limit, start=5, step=5, a=None, b=None):\n",
    "    coherence_values = []\n",
    "    model_list = []\n",
    "    for num_topics in tqdm(range(start, limit, step)):\n",
    "        model = gensim.models.LdaMulticore(corpus=corpus, num_topics=num_topics, random_state=100,\n",
    "                                               passes=50, iterations=500, per_word_topics=True, id2word=dictionary, alpha=a, eta=b)\n",
    "        model_list.append(model)\n",
    "        coherence_model = CoherenceModel(model=model, texts=texts, dictionary=dictionary, coherence=\"c_v\")\n",
    "        coherence_values.append(coherence_model.get_coherence())\n",
    "    return model_list, coherence_values"
   ]
  },
  {
   "cell_type": "code",
   "execution_count": null,
   "metadata": {
    "pycharm": {
     "is_executing": true
    }
   },
   "outputs": [],
   "source": [
    "model_list_male, coherence_values_male = compute_coherence(dictionary=id2word_male, corpus=corpus_male, texts=data_male_stopped, start=5, limit=45, step=5, a=0.61, b=0.9099999999999999)\n",
    "model_list_female, coherence_values_female = compute_coherence(dictionary=id2word_female, corpus=corpus_female, texts=data_female_stopped, start=5, limit=45, step=5, a=\"asymmetric\", b=0.9099999999999999)"
   ]
  },
  {
   "cell_type": "code",
   "execution_count": null,
   "metadata": {
    "pycharm": {
     "is_executing": true
    }
   },
   "outputs": [],
   "source": [
    "start = 5\n",
    "limit = 45\n",
    "step = 5\n",
    "x_key = range(start, limit, step)\n",
    "\n",
    "plt.plot(x_key, coherence_values_male)\n",
    "plt.title(\"Coherence Score vs # of Topics (Male)\")\n",
    "plt.xlabel(\"# of Topics\")\n",
    "plt.ylabel(\"Coherence Score\")\n",
    "plt.legend((\"coherence_male\"), loc=\"best\")\n",
    "plt.show()\n",
    "\n",
    "plt.plot(x_key, coherence_values_female)\n",
    "plt.title(\"Coherence Score vs # of Topics (Female)\")\n",
    "plt.xlabel(\"# of Topics\")\n",
    "plt.ylabel(\"Coherence Score\")\n",
    "plt.legend((\"coherence_male\"), loc=\"best\")\n",
    "plt.show()\n",
    "\n",
    "for m, cv in zip(x_key, coherence_values_male):\n",
    "    print(\"male: topics=\", m, \": coherence=\", round(cv, 5))\n",
    "    \n",
    "for m, cv in zip(x_key, coherence_values_female):\n",
    "    print(\"female: topics=\", m, \": coherence=\", round(cv, 5))"
   ]
  },
  {
   "cell_type": "code",
   "execution_count": null,
   "metadata": {},
   "outputs": [],
   "source": [
    "pp.pprint(model_list_male[4].print_topics())\n",
    "print(\"===female===\")\n",
    "pp.pprint(model_list_female[5].print_topics())"
   ]
  },
  {
   "cell_type": "code",
   "execution_count": null,
   "metadata": {},
   "outputs": [],
   "source": [
    "# setup for optimization\n",
    "min_topics = 10\n",
    "max_topics = 50\n",
    "step_size = 5\n",
    "topics_range = range(min_topics, max_topics, step_size)\n",
    "\n",
    "# alpha\n",
    "alpha = list(np.arange(0.01, 1, 0.3))\n",
    "alpha.append(\"symmetric\")\n",
    "alpha.append(\"asymmetric\")\n",
    "\n",
    "# beta\n",
    "beta = list(np.arange(0.01, 1, 0.3))\n",
    "beta.append(\"symmetric\")"
   ]
  },
  {
   "cell_type": "code",
   "execution_count": null,
   "metadata": {},
   "outputs": [],
   "source": [
    "def compute_cv_once(corpus, dictionary, texts, k, a, b):\n",
    "    model = gensim.models.LdaMulticore(corpus=corpus, num_topics=k, random_state=100,\n",
    "                                               passes=50, iterations=500, per_word_topics=True, id2word=dictionary, alpha=a, eta=b)\n",
    "    coherence_model_lda = CoherenceModel(model=model, texts=texts, dictionary=dictionary, coherence=\"c_v\")\n",
    "    return coherence_model_lda.get_coherence()"
   ]
  },
  {
   "cell_type": "code",
   "execution_count": null,
   "metadata": {},
   "outputs": [],
   "source": [
    "# male optimization\n",
    "\n",
    "male_results = {\"Topics\": [],\n",
    "               \"Alpha\": [],\n",
    "               \"Beta\": [],\n",
    "               \"Coherence\": []}\n",
    "\n",
    "num_docs_male = len(corpus_male)\n",
    "\n",
    "#for i in tqdm(range(len(corpus_male))):\n",
    "for k in tqdm(topics_range):\n",
    "    print(\"topics: \", k)\n",
    "    for a in tqdm(alpha):\n",
    "        print(\"alpha: \", a)\n",
    "        for b in tqdm(beta):\n",
    "            print(\"beta: \", b)\n",
    "            cv = compute_cv_once(dictionary=id2word_male, corpus=corpus_male, texts=data_male_stopped, k=k, a=a, b=b)\n",
    "            print(cv)\n",
    "            male_results[\"Topics\"].append(k)\n",
    "            male_results[\"Alpha\"].append(a)\n",
    "            male_results[\"Beta\"].append(b)\n",
    "            male_results[\"Coherence\"].append(cv)\n",
    "pd.DataFrame(male_results).to_csv(\"lda_tuning_male.csv\", index=False)\n"
   ]
  },
  {
   "cell_type": "code",
   "execution_count": null,
   "metadata": {},
   "outputs": [],
   "source": [
    "# female optimization\n",
    "\n",
    "female_results = {\"Topics\": [],\n",
    "               \"Alpha\": [],\n",
    "               \"Beta\": [],\n",
    "               \"Coherence\": []}\n",
    "\n",
    "num_docs_female = len(corpus_female)\n",
    "\n",
    "#for i in tqdm(range(len(corpus_female))):\n",
    "for k in tqdm(topics_range):\n",
    "    print(\"topics: \", k)\n",
    "    for a in tqdm(alpha):\n",
    "        print(\"alpha: \", a)\n",
    "        for b in tqdm(beta):\n",
    "            print(\"beta: \", b)\n",
    "            cv = compute_cv_once(dictionary=id2word_female, corpus=corpus_female, texts=data_female_stopped, k=k, a=a, b=b)\n",
    "            print(cv)\n",
    "            male_results[\"Topics\"].append(k)\n",
    "            male_results[\"Alpha\"].append(a)\n",
    "            male_results[\"Beta\"].append(b)\n",
    "            male_results[\"Coherence\"].append(cv)\n",
    "pd.DataFrame(male_results).to_csv(\"lda_tuning_female.csv\", index=False)\n"
   ]
  },
  {
   "cell_type": "code",
   "execution_count": null,
   "metadata": {},
   "outputs": [],
   "source": [
    "# final LDAs\n",
    "lda_male = gensim.models.ldamodel.LdaModel(corpus=corpus_male,\n",
    "                                          id2word=id2word_male,\n",
    "                                          num_topics=10,\n",
    "                                          random_state=100,\n",
    "                                          passes=50,\n",
    "                                          iterations=500,\n",
    "                                          per_word_topics=True,\n",
    "                                          alpha=0.01,\n",
    "                                          eta=0.91)\n",
    "\n",
    "lda_female = gensim.models.LdaMulticore(corpus=corpus_female,\n",
    "                                            id2word=id2word_female,\n",
    "                                            num_topics=10,\n",
    "                                            random_state=100,\n",
    "                                            passes=50,\n",
    "                                            iterations=500,\n",
    "                                            eval_every=1,\n",
    "                                            per_word_topics=True,\n",
    "                                            alpha=0.01,\n",
    "                                            eta=0.91)"
   ]
  },
  {
   "cell_type": "code",
   "execution_count": null,
   "metadata": {},
   "outputs": [],
   "source": [
    "print(\"===male===\")\n",
    "pp.pprint(lda_male.print_topics())\n",
    "print(\"===female===\")\n",
    "pp.pprint(lda_female.print_topics())"
   ]
  },
  {
   "cell_type": "code",
   "execution_count": 8,
   "metadata": {},
   "outputs": [],
   "source": [
    "# ===begin new approach (Gibbs Sampling LDA instead of Variational Bayes===\n",
    "# setup for MALLET (Gibbs Sampling LDA)\n",
    "import os\n",
    "from gensim.models.wrappers import LdaMallet\n",
    "os.environ.update({'MALLET_HOME':r'C:\\mallet-2.0.8'}) \n",
    "mallet_path = r'C:/mallet-2.0.8/bin/mallet.bat' "
   ]
  },
  {
   "cell_type": "code",
   "execution_count": 41,
   "metadata": {},
   "outputs": [],
   "source": [
    "def calculate_coherence_gibbs(corpus, texts, num_topics, id2word):\n",
    "    model = gensim.models.wrappers.LdaMallet(mallet_path=mallet_path, corpus=corpus, num_topics=num_topics,\n",
    "                                            iterations=1000, id2word=id2word, optimize_interval=1)\n",
    "    coherence_model = CoherenceModel(model=model, texts=texts, dictionary=id2word, coherence=\"c_v\")\n",
    "    return model, coherence_model.get_coherence()"
   ]
  },
  {
   "cell_type": "code",
   "execution_count": 43,
   "metadata": {},
   "outputs": [
    {
     "name": "stderr",
     "output_type": "stream",
     "text": [
      "100%|██████████| 13/13 [11:58<00:00, 55.30s/it]\n"
     ]
    }
   ],
   "source": [
    "# doing MALLET and optimization for male ---> best: k=60\n",
    "\n",
    "# test 10-70 topics\n",
    "coherence_values_male = []\n",
    "model_list_male = []\n",
    "for num_topics in tqdm(range(10, 75, 5)):\n",
    "    model, coherence_value = calculate_coherence_gibbs(corpus_male, data_male_stopped, num_topics, id2word_male)\n",
    "    model_list_male.append(model)\n",
    "    coherence_values_male.append(coherence_value)"
   ]
  },
  {
   "cell_type": "code",
   "execution_count": null,
   "metadata": {},
   "outputs": [
    {
     "name": "stderr",
     "output_type": "stream",
     "text": [
      " 62%|██████▏   | 8/13 [07:21<04:37, 55.54s/it]"
     ]
    }
   ],
   "source": [
    "# doing MALLET and optimization for female\n",
    "\n",
    "# test 10-70 topics\n",
    "coherence_values_female = []\n",
    "model_list_female = []\n",
    "for num_topics in tqdm(range(10, 75, 5)):\n",
    "    model, coherence_value = calculate_coherence_gibbs(corpus_female, data_female_stopped, num_topics, id2word_female)\n",
    "    model_list_female.append(model)\n",
    "    coherence_values_female.append(coherence_value)"
   ]
  },
  {
   "cell_type": "code",
   "execution_count": 44,
   "metadata": {},
   "outputs": [
    {
     "data": {
      "image/png": "[encoded data removed]",
      "text/plain": [
       "<Figure size 640x480 with 1 Axes>"
      ]
     },
     "metadata": {},
     "output_type": "display_data"
    }
   ],
   "source": [
    "# display MALLET optimization for K for males\n",
    "start = 10\n",
    "limit = 75\n",
    "step = 5\n",
    "x_key = range(start, limit, step)\n",
    "\n",
    "plt.plot(x_key, coherence_values_male)\n",
    "plt.title(\"Coherence Score vs # of Topics (Male)\")\n",
    "plt.xlabel(\"# of Topics\")\n",
    "plt.ylabel(\"Coherence Score\")\n",
    "plt.legend((\"coherence_male\"), loc=\"best\")\n",
    "plt.show()"
   ]
  },
  {
   "cell_type": "code",
   "execution_count": null,
   "metadata": {},
   "outputs": [],
   "source": [
    "# display MALLET optimization for K for females\n",
    "start = 10\n",
    "limit = 75\n",
    "step = 5\n",
    "x_key = range(start, limit, step)\n",
    "\n",
    "plt.plot(x_key, coherence_values_female)\n",
    "plt.title(\"Coherence Score vs # of Topics (Female)\")\n",
    "plt.xlabel(\"# of Topics\")\n",
    "plt.ylabel(\"Coherence Score\")\n",
    "plt.legend((\"coherence_female\"), loc=\"best\")\n",
    "plt.show()"
   ]
  },
  {
   "cell_type": "code",
   "execution_count": 66,
   "metadata": {},
   "outputs": [
    {
     "name": "stdout",
     "output_type": "stream",
     "text": [
      "[(35,\n",
      "  'nan*\"syncope\" + nan*\"ringing\" + nan*\"checking\" + nan*\"checked\" + '\n",
      "  'nan*\"beating\" + nan*\"awareness\" + nan*\"contribute\" + nan*\"symptom\" + '\n",
      "  'nan*\"monitoring\" + nan*\"pressure\"'),\n",
      " (59,\n",
      "  'nan*\"syncope\" + nan*\"ringing\" + nan*\"checking\" + nan*\"checked\" + '\n",
      "  'nan*\"beating\" + nan*\"awareness\" + nan*\"contribute\" + nan*\"symptom\" + '\n",
      "  'nan*\"monitoring\" + nan*\"pressure\"'),\n",
      " (52,\n",
      "  '0.115*\"fatigue\" + 0.077*\"honestly\" + 0.077*\"neuropathy\" + 0.038*\"office\" + '\n",
      "  '0.038*\"prize\" + 0.038*\"banking\" + 0.038*\"coping\" + 0.038*\"highkey\" + '\n",
      "  '0.038*\"mri\" + 0.038*\"mystery\"'),\n",
      " (0,\n",
      "  '0.071*\"monster\" + 0.036*\"added\" + 0.036*\"relentless\" + 0.036*\"title\" + '\n",
      "  '0.036*\"slayed\" + 0.036*\"afraid\" + 0.036*\"offical\" + 0.036*\"affection\" + '\n",
      "  '0.036*\"deserved\" + 0.036*\"avoided\"'),\n",
      " (41,\n",
      "  '0.038*\"insane\" + 0.038*\"divorced\" + 0.038*\"drug\" + 0.038*\"meaning\" + '\n",
      "  '0.019*\"outsider\" + 0.019*\"finance\" + 0.019*\"commit\" + 0.019*\"crackheads\" + '\n",
      "  '0.019*\"bribed\" + 0.019*\"countertop\"'),\n",
      " (49,\n",
      "  '0.081*\"hated\" + 0.068*\"sister\" + 0.041*\"cycle\" + 0.041*\"sabotaging\" + '\n",
      "  '0.027*\"insurance\" + 0.027*\"attention\" + 0.027*\"jump\" + 0.014*\"graduate\" + '\n",
      "  '0.014*\"language\" + 0.014*\"fullest\"'),\n",
      " (44,\n",
      "  '0.071*\"employed\" + 0.048*\"menial\" + 0.048*\"dropped\" + 0.048*\"workforce\" + '\n",
      "  '0.024*\"wave\" + 0.024*\"handful\" + 0.024*\"college\" + 0.024*\"schedule\" + '\n",
      "  '0.024*\"pet\" + 0.024*\"lose\"'),\n",
      " (9,\n",
      "  '0.079*\"pill\" + 0.053*\"growing\" + 0.039*\"asleep\" + 0.039*\"father\" + '\n",
      "  '0.026*\"believed\" + 0.026*\"extra\" + 0.026*\"barely\" + 0.026*\"crazy\" + '\n",
      "  '0.026*\"cancer\" + 0.013*\"place\"'),\n",
      " (36,\n",
      "  '0.077*\"sensation\" + 0.077*\"face\" + 0.058*\"visual\" + 0.058*\"improved\" + '\n",
      "  '0.038*\"snow\" + 0.038*\"tingling\" + 0.038*\"disorder\" + 0.038*\"touching\" + '\n",
      "  '0.038*\"burning\" + 0.019*\"neuralgia\"'),\n",
      " (10,\n",
      "  '0.071*\"animal\" + 0.039*\"cat\" + 0.039*\"human\" + 0.031*\"humanity\" + '\n",
      "  '0.031*\"grandparent\" + 0.024*\"joke\" + 0.024*\"tired\" + 0.024*\"dad\" + '\n",
      "  '0.024*\"hurt\" + 0.024*\"horrible\"'),\n",
      " (33,\n",
      "  '0.050*\"alcohol\" + 0.041*\"withdrawal\" + 0.041*\"drinking\" + 0.028*\"addiction\" '\n",
      "  '+ 0.028*\"drink\" + 0.023*\"sober\" + 0.023*\"missing\" + 0.018*\"ago\" + '\n",
      "  '0.018*\"alcoholic\" + 0.014*\"rest\"'),\n",
      " (8,\n",
      "  '0.075*\"depression\" + 0.046*\"severe\" + 0.033*\"feeling\" + 0.025*\"struggling\" '\n",
      "  '+ 0.025*\"childhood\" + 0.021*\"head\" + 0.021*\"hospital\" + 0.021*\"similar\" + '\n",
      "  '0.017*\"experience\" + 0.017*\"traumatic\"'),\n",
      " (22,\n",
      "  '0.085*\"pain\" + 0.036*\"chest\" + 0.030*\"test\" + 0.026*\"healthy\" + '\n",
      "  '0.024*\"diet\" + 0.020*\"exercise\" + 0.018*\"lot\" + 0.018*\"normal\" + '\n",
      "  '0.016*\"early\" + 0.016*\"issue\"'),\n",
      " (50,\n",
      "  '0.102*\"school\" + 0.041*\"hate\" + 0.033*\"fucking\" + 0.033*\"high\" + '\n",
      "  '0.033*\"girl\" + 0.022*\"gonna\" + 0.019*\"dead\" + 0.019*\"middle\" + 0.019*\"shit\" '\n",
      "  '+ 0.019*\"bullied\"'),\n",
      " (40,\n",
      "  '0.080*\"mg\" + 0.054*\"anxiety\" + 0.033*\"month\" + 0.027*\"week\" + 0.025*\"day\" + '\n",
      "  '0.022*\"medication\" + 0.022*\"zoloft\" + 0.022*\"lexapro\" + 0.022*\"depression\" '\n",
      "  '+ 0.020*\"prozac\"'),\n",
      " (23,\n",
      "  '0.099*\"anxiety\" + 0.063*\"panic\" + 0.053*\"attack\" + 0.023*\"time\" + '\n",
      "  '0.022*\"symptom\" + 0.022*\"feel\" + 0.022*\"night\" + 0.020*\"started\" + '\n",
      "  '0.019*\"day\" + 0.017*\"sleep\"'),\n",
      " (20,\n",
      "  '0.042*\"anxiety\" + 0.039*\"feel\" + 0.035*\"fear\" + 0.034*\"scared\" + '\n",
      "  '0.024*\"die\" + 0.023*\"anxious\" + 0.020*\"pain\" + 0.019*\"brain\" + 0.018*\"guy\" '\n",
      "  '+ 0.018*\"thought\"'),\n",
      " (29,\n",
      "  '0.198*\"im\" + 0.085*\"dont\" + 0.083*\"ive\" + 0.023*\"didnt\" + 0.021*\"feel\" + '\n",
      "  '0.014*\"started\" + 0.013*\"therapist\" + 0.013*\"head\" + 0.011*\"couldnt\" + '\n",
      "  '0.010*\"parent\"'),\n",
      " (5,\n",
      "  '0.144*\"wa\" + 0.038*\"day\" + 0.033*\"back\" + 0.023*\"time\" + 0.023*\"feeling\" + '\n",
      "  '0.019*\"month\" + 0.017*\"worse\" + 0.017*\"left\" + 0.017*\"felt\" + 0.017*\"told\"'),\n",
      " (47,\n",
      "  '0.045*\"year\" + 0.037*\"life\" + 0.033*\"time\" + 0.033*\"feel\" + 0.026*\"wa\" + '\n",
      "  '0.024*\"friend\" + 0.023*\"make\" + 0.021*\"people\" + 0.019*\"job\" + '\n",
      "  '0.019*\"thing\"')]\n"
     ]
    }
   ],
   "source": [
    "# best k for male: k=60; k~20\n",
    "pp.pprint(model_list_male[10].print_topics())"
   ]
  },
  {
   "cell_type": "code",
   "execution_count": 77,
   "metadata": {},
   "outputs": [],
   "source": [
    "# get distribution of topics for male\n",
    "\n",
    "from operator import itemgetter\n",
    "\n",
    "most_probable_topics = []\n",
    "\n",
    "for topics in model_list_male[10][corpus_male]:\n",
    "    # get first most prob\n",
    "    most_probable_topics.append(max(topics, key=itemgetter(1))[0])\n",
    "    # get second most prob\n",
    "    topics.remove(max(topics, key=itemgetter(1)))\n",
    "    most_probable_topics.append(max(topics, key=itemgetter(1))[0])\n",
    "    # get third most prob\n",
    "    topics.remove(max(topics, key=itemgetter(1)))\n",
    "    most_probable_topics.append(max(topics, key=itemgetter(1))[0])"
   ]
  },
  {
   "cell_type": "code",
   "execution_count": 87,
   "metadata": {},
   "outputs": [
    {
     "data": {
      "text/plain": [
       "([<matplotlib.axis.XTick at 0x1ef1db24220>,\n",
       "  <matplotlib.axis.XTick at 0x1ef1db241f0>,\n",
       "  <matplotlib.axis.XTick at 0x1ef1db15c70>,\n",
       "  <matplotlib.axis.XTick at 0x1ef1db051c0>,\n",
       "  <matplotlib.axis.XTick at 0x1ef1d65bbb0>,\n",
       "  <matplotlib.axis.XTick at 0x1ef1d9c8eb0>,\n",
       "  <matplotlib.axis.XTick at 0x1ef1d9d36d0>,\n",
       "  <matplotlib.axis.XTick at 0x1ef1d9d3eb0>,\n",
       "  <matplotlib.axis.XTick at 0x1ef1d9d66d0>,\n",
       "  <matplotlib.axis.XTick at 0x1ef1d9d3550>],\n",
       " [Text(0, 0, '0'),\n",
       "  Text(6, 0, '6'),\n",
       "  Text(12, 0, '12'),\n",
       "  Text(18, 0, '18'),\n",
       "  Text(24, 0, '24'),\n",
       "  Text(30, 0, '30'),\n",
       "  Text(36, 0, '36'),\n",
       "  Text(42, 0, '42'),\n",
       "  Text(48, 0, '48'),\n",
       "  Text(54, 0, '54')])"
      ]
     },
     "execution_count": 87,
     "metadata": {},
     "output_type": "execute_result"
    },
    {
     "data": {
      "image/png": "[encoded data removed]",
      "text/plain": [
       "<Figure size 640x480 with 1 Axes>"
      ]
     },
     "metadata": {},
     "output_type": "display_data"
    }
   ],
   "source": [
    "# display the distribution of topics for male\n",
    "\n",
    "plt.hist(most_probable_topics, edgecolor=\"black\", bins=60)\n",
    "plt.xticks(range(0, 60, 6))"
   ]
  },
  {
   "cell_type": "code",
   "execution_count": null,
   "metadata": {},
   "outputs": [],
   "source": []
  }
 ],
 "metadata": {
  "kernelspec": {
   "display_name": "Python 3 (ipykernel)",
   "language": "python",
   "name": "python3"
  },
  "language_info": {
   "codemirror_mode": {
    "name": "ipython",
    "version": 3
   },
   "file_extension": ".py",
   "mimetype": "text/x-python",
   "name": "python",
   "nbconvert_exporter": "python",
   "pygments_lexer": "ipython3",
   "version": "3.9.10"
  }
 },
 "nbformat": 4,
 "nbformat_minor": 4
}